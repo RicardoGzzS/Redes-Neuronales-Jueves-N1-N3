{
  "nbformat": 4,
  "nbformat_minor": 0,
  "metadata": {
    "colab": {
      "name": "IA_Ejercicio2_RicardoGonzalez_1822089.ipynb",
      "provenance": []
    },
    "kernelspec": {
      "name": "python3",
      "display_name": "Python 3"
    },
    "language_info": {
      "name": "python"
    }
  },
  "cells": [
    {
      "cell_type": "markdown",
      "source": [
        "A2: EJERCICIOS BASICOS EN PYTHON  \n",
        "NOMBRE: RICARDO GONZALEZ SEPULVEDA\n",
        "MATRICULA: 1822089 \n",
        "HORA CLASE: N1 - N3 "
      ],
      "metadata": {
        "id": "l2fhKqLwougD"
      }
    },
    {
      "cell_type": "markdown",
      "source": [
        "EJERCICIOS: \n",
        "1. Escribe un programa que le pida al usuario por su nombre y que lo salude con su nombre, excepto si se llama “Ana”, “Juan”, y “Pedro”."
      ],
      "metadata": {
        "id": "6mOgx2c4pcvq"
      }
    },
    {
      "cell_type": "code",
      "source": [
        "nombre = input(\"ingresa tu nombre iniciando primero con mayuscula \") \n",
        "if nombre in [\"Ana\", \"Juan\", \"Pedro\"]: #se evualua cada palabra y si coindice ejecuta lo de abajo\n",
        "  print(\"Error\") \n",
        "else: #en caso de no ser igual imprime hola junto con el nombre del usuario\n",
        "    print(\"Hola \" + nombre)"
      ],
      "metadata": {
        "id": "xFUU-egApiR-",
        "colab": {
          "base_uri": "https://localhost:8080/"
        },
        "outputId": "f7a812ee-3e70-4ce0-b182-b704566eefd3"
      },
      "execution_count": 1,
      "outputs": [
        {
          "output_type": "stream",
          "name": "stdout",
          "text": [
            "ingresa tu nombre iniciando primero con mayuscula Ricky \n",
            "Hola Ricky \n"
          ]
        }
      ]
    },
    {
      "cell_type": "markdown",
      "source": [
        "2.Escribe una función que regrese el último elemento de una lista y que revierta el orden de la lista e imprima la lista revertida.\n",
        "\n"
      ],
      "metadata": {
        "id": "86rcKtacpnUG"
      }
    },
    {
      "cell_type": "code",
      "source": [
        "def my_function(): \n",
        "  print(thislist[-1]) #pedimos que imprima el ultimo elemento de la lista\n",
        "  print(thislist[::-1]) #muestra en orden inverso el contenido de la lista\n",
        "\n"
      ],
      "metadata": {
        "id": "0Cg8feHtqISH"
      },
      "execution_count": 2,
      "outputs": []
    },
    {
      "cell_type": "code",
      "source": [
        "thislist = [\"mustang\", \"ferrari\", \"bmw\", \"toyota\", \"porsche\"]\n",
        "my_function() #usamos la funcion que creamos en la celda anterior"
      ],
      "metadata": {
        "id": "OIEyz4r_pqnj",
        "colab": {
          "base_uri": "https://localhost:8080/"
        },
        "outputId": "9f7dc4d8-90c9-4ab1-fd77-bfe7a089ae21"
      },
      "execution_count": 3,
      "outputs": [
        {
          "output_type": "stream",
          "name": "stdout",
          "text": [
            "porsche\n",
            "['porsche', 'toyota', 'bmw', 'ferrari', 'mustang']\n"
          ]
        }
      ]
    },
    {
      "cell_type": "markdown",
      "source": [
        "3.Escribe una función que toma una lista de strings y los imprima línea por línea en un marco rectangular. Por ejemplo, la lista [“Hola”, “a”, “todos”, “esto”, “es”, “un”, “marco”] se imprime:\n",
        "\n",
        "\n",
        "\n",
        "**********\n",
        "\n",
        "* Hola    *\n",
        "\n",
        "* a          *\n",
        "\n",
        "* todos  *\n",
        "\n",
        "* esto    *\n",
        "\n",
        "* es        *\n",
        "\n",
        "* un        *\n",
        "\n",
        "* marco *\n",
        "\n",
        "**********"
      ],
      "metadata": {
        "id": "sIYNF2QNprRC"
      }
    },
    {
      "cell_type": "code",
      "source": [
        "def marco_strings1(): #definimos la funcion \n",
        "  print(\"**********\")\n",
        "  for x in lista:\n",
        "    print(\"*\"+ x + \"*\") #se imprimen los strings de la lista entre cada uno de los asteriscos \n",
        " "
      ],
      "metadata": {
        "id": "S6VccSV4JouY"
      },
      "execution_count": 6,
      "outputs": []
    },
    {
      "cell_type": "code",
      "source": [
        "lista = [\"hola    \", \"me      \", \"llamo   \", \"ricardo \", \"gonzalez\"]\n",
        "marco_strings1() #aplicamos la funcion previamente creada\n",
        "print(\"**********\")"
      ],
      "metadata": {
        "colab": {
          "base_uri": "https://localhost:8080/"
        },
        "id": "FXN9eqcrKSs-",
        "outputId": "fe50fb5f-0b7b-456f-e351-d9ab907262f5"
      },
      "execution_count": 7,
      "outputs": [
        {
          "output_type": "stream",
          "name": "stdout",
          "text": [
            "**********\n",
            "*hola    *\n",
            "*me      *\n",
            "*llamo   *\n",
            "*ricardo *\n",
            "*gonzalez*\n",
            "**********\n"
          ]
        }
      ]
    }
  ]
}